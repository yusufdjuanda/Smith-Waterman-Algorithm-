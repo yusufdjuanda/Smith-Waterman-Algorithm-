{
 "cells": [
  {
   "cell_type": "code",
   "execution_count": 40,
   "metadata": {},
   "outputs": [],
   "source": [
    "import pandas as pd\n",
    "import numpy as np"
   ]
  },
  {
   "cell_type": "markdown",
   "metadata": {},
   "source": [
    "# Extracting Blosum62 Table \n",
    "- From .txt to dictionary as a reference "
   ]
  },
  {
   "cell_type": "code",
   "execution_count": 41,
   "metadata": {},
   "outputs": [],
   "source": [
    "def get_the_blosum_matrix(file):\n",
    "    with open(file) as f:\n",
    "        header = f.readline().upper().strip().replace('  ',' ')\n",
    "        protein = header.split(' ')\n",
    "        score = {}\n",
    "        for line in f.readlines():\n",
    "            row = line.upper().strip().replace('  ',' ').split(' ')\n",
    "            protein2 = row[0]\n",
    "            protein2_score = {}\n",
    "            for i in range(len(protein)):\n",
    "                protein2_score[protein[i]] = int(row[i+1])\n",
    "            score[protein2] = protein2_score\n",
    "        return score\n"
   ]
  },
  {
   "cell_type": "markdown",
   "metadata": {},
   "source": [
    "# Alignment function\n",
    "- traceback(matrix, row, col): To traceback the alignment and provide aligned seq in the first_seq and second_seq list\n",
    "- alignment(x,y): To create a matrix with initialization column and row and to provide score values of each cell matrix based on the given rule "
   ]
  },
  {
   "cell_type": "code",
   "execution_count": 44,
   "metadata": {},
   "outputs": [],
   "source": [
    "first_seq = [] # seq assigned in y variable\n",
    "second_seq = [] # seq assigned in x variable\n",
    "def traceback(matrix, row, col):\n",
    "    if col != 0:\n",
    "\n",
    "        if row != 0 : # run function only if the matrix cell is not in the upper left matrix (zero index)\n",
    "            \n",
    "            rule_1 = matrix[row - 1][col - 1] + blosum_score[x[row-1]][y[col-1]]\n",
    "            rule_2 = matrix[row][col - 1] - 1\n",
    "            rule_3 = matrix[row - 1][col] - 1\n",
    "\n",
    "            max_score = max(\n",
    "                        rule_1,\n",
    "                        rule_2,\n",
    "                        rule_3)\n",
    "\n",
    "            if max_score == rule_1: # the seq from the index x and y are aligned and will return the matching sequence\n",
    "                first_seq.append(y[col-1])\n",
    "                second_seq.append(x[row-1])\n",
    "                return traceback(matrix, row - 1, col - 1) # traceback going to the above left cell\n",
    "            \n",
    "            elif max_score == rule_2: # no matching sequence, gap the nucleotide on the second seq\n",
    "                first_seq.append(y[col-1])\n",
    "                second_seq.append(\"-\")\n",
    "                return traceback(matrix, row, col - 1) # traceback going to the left cell\n",
    "\n",
    "            elif max_score == rule_3: # no matching sequence, gap the nucleotide on the first seq\n",
    "                first_seq.append(\"-\")\n",
    "                second_seq.append(x[row-1])\n",
    "                return traceback(matrix, row - 1, col) # traceback going to the above cell\n",
    "\n",
    "        else:\n",
    "            first_seq.append(y[col-1])\n",
    "            second_seq.append(\"-\")"
   ]
  },
  {
   "cell_type": "code",
   "execution_count": 45,
   "metadata": {},
   "outputs": [],
   "source": [
    "def alignment(x,y):\n",
    "\n",
    "    col = len(y)\n",
    "    row = len(x)\n",
    "    matrix = [[0 for i in range(col + 1)] for j in range(row + 1)] # to provide basic matrix with the length of seq x and seq y\n",
    "\n",
    "    for i in range(1, row + 1): # to provide initialization row for seq x\n",
    "        matrix[i][0] = 0\n",
    "\n",
    "    for j in range(1, col + 1): # to provide initialization row for seq y\n",
    "        matrix[0][j] = 0\n",
    "\n",
    "    for i in range(1, row + 1): \n",
    "        for j in range(1, col + 1):\n",
    "            matrix[i][j] = max(\n",
    "                matrix[i - 1][j - 1] + blosum_score[x[i-1]][y[j-1]] ,\n",
    "                matrix[i - 1][j] - 1,\n",
    "                matrix[i][j - 1] - 1,)\n",
    "    traceback(matrix, row, col)\n",
    "    x_index,y_index = list(x), list(y)\n",
    "    x_index.insert(0,0)\n",
    "    y_index.insert(0,0)\n",
    "    df = pd.DataFrame(matrix, columns = y_index)\n",
    "    df.index = x_index\n",
    "    return df  "
   ]
  },
  {
   "cell_type": "markdown",
   "metadata": {},
   "source": [
    "# Alignment sequences \n",
    "- Alignment sequences assigned in variable x and y respectively\n",
    "- Variable y is referred as the first sequence\n",
    "- Variable x is referred as the second sequence"
   ]
  },
  {
   "cell_type": "code",
   "execution_count": 47,
   "metadata": {},
   "outputs": [],
   "source": [
    "blosum_score = get_the_blosum_matrix(\"blosum62.txt\")\n",
    "matrix = alignment(x,y)\n"
   ]
  },
  {
   "cell_type": "code",
   "execution_count": 75,
   "metadata": {},
   "outputs": [
    {
     "name": "stdout",
     "output_type": "stream",
     "text": [
      "Aligning sequence -MLKPVTK as column index, and -IEFIS as row index\n",
      "\n",
      "Alignment matrix:\n",
      " \n",
      "   0  M  L  K  P  V  T  K\n",
      "0  0  0  0  0  0  0  0  0\n",
      "I  0  1  2  1  0  3  2  1\n",
      "E  0  0  1  3  2  2  2  3\n",
      "F  0  0  0  2  1  1  1  2\n",
      "I  0  1  2  1  0  4  3  2\n",
      "S  0  0  1  2  1  3  5  4\n",
      "\n",
      "First sequence :\n",
      "M L K - P V T K\n",
      "Second sequence :\n",
      "- I E F - I S -\n"
     ]
    }
   ],
   "source": [
    "y = 'MLKPVTK'\n",
    "x = 'IEFIS'\n",
    "print(f'Aligning sequence {y} as column index, and {x} as row index\\n')\n",
    "print(f'Alignment matrix:\\n \\n{matrix}\\n') \n",
    "print('First sequence :')\n",
    "print(*np.array(first_seq[::-1])) # reversed traceback sequence\n",
    "print('Second sequence :')\n",
    "print(*np.array(second_seq[::-1])) # reversed traceback sequence"
   ]
  },
  {
   "cell_type": "markdown",
   "metadata": {},
   "source": [
    "# Traceback Route\n",
    "- Traceback route is highlighted in the yellow"
   ]
  },
  {
   "cell_type": "code",
   "execution_count": 74,
   "metadata": {},
   "outputs": [
    {
     "data": {
      "text/html": [
       "<div>\n",
       "<style scoped>\n",
       "    .dataframe tbody tr th:only-of-type {\n",
       "        vertical-align: middle;\n",
       "    }\n",
       "\n",
       "    .dataframe tbody tr th {\n",
       "        vertical-align: top;\n",
       "    }\n",
       "\n",
       "    .dataframe thead th {\n",
       "        text-align: right;\n",
       "    }\n",
       "</style>\n",
       "<table border=\"1\" class=\"dataframe\">\n",
       "  <thead>\n",
       "    <tr style=\"text-align: right;\">\n",
       "      <th></th>\n",
       "      <th>0</th>\n",
       "      <th>M</th>\n",
       "      <th>L</th>\n",
       "      <th>K</th>\n",
       "      <th>P</th>\n",
       "      <th>V</th>\n",
       "      <th>T</th>\n",
       "      <th>K</th>\n",
       "    </tr>\n",
       "  </thead>\n",
       "  <tbody>\n",
       "    <tr>\n",
       "      <th>0</th>\n",
       "      <td>0</td>\n",
       "      <td>0</td>\n",
       "      <td>0</td>\n",
       "      <td>0</td>\n",
       "      <td>0</td>\n",
       "      <td>0</td>\n",
       "      <td>0</td>\n",
       "      <td>0</td>\n",
       "    </tr>\n",
       "    <tr>\n",
       "      <th>I</th>\n",
       "      <td>0</td>\n",
       "      <td>1</td>\n",
       "      <td>2</td>\n",
       "      <td>1</td>\n",
       "      <td>0</td>\n",
       "      <td>3</td>\n",
       "      <td>2</td>\n",
       "      <td>1</td>\n",
       "    </tr>\n",
       "    <tr>\n",
       "      <th>E</th>\n",
       "      <td>0</td>\n",
       "      <td>0</td>\n",
       "      <td>1</td>\n",
       "      <td>3</td>\n",
       "      <td>2</td>\n",
       "      <td>2</td>\n",
       "      <td>2</td>\n",
       "      <td>3</td>\n",
       "    </tr>\n",
       "    <tr>\n",
       "      <th>F</th>\n",
       "      <td>0</td>\n",
       "      <td>0</td>\n",
       "      <td>0</td>\n",
       "      <td>2</td>\n",
       "      <td>1</td>\n",
       "      <td>1</td>\n",
       "      <td>1</td>\n",
       "      <td>2</td>\n",
       "    </tr>\n",
       "    <tr>\n",
       "      <th>I</th>\n",
       "      <td>0</td>\n",
       "      <td>1</td>\n",
       "      <td>2</td>\n",
       "      <td>1</td>\n",
       "      <td>0</td>\n",
       "      <td>4</td>\n",
       "      <td>3</td>\n",
       "      <td>2</td>\n",
       "    </tr>\n",
       "    <tr>\n",
       "      <th>S</th>\n",
       "      <td>0</td>\n",
       "      <td>0</td>\n",
       "      <td>1</td>\n",
       "      <td>2</td>\n",
       "      <td>1</td>\n",
       "      <td>3</td>\n",
       "      <td>5</td>\n",
       "      <td>4</td>\n",
       "    </tr>\n",
       "  </tbody>\n",
       "</table>\n",
       "</div>"
      ],
      "text/plain": [
       "   0  M  L  K  P  V  T  K\n",
       "0  0  0  0  0  0  0  0  0\n",
       "I  0  1  2  1  0  3  2  1\n",
       "E  0  0  1  3  2  2  2  3\n",
       "F  0  0  0  2  1  1  1  2\n",
       "I  0  1  2  1  0  4  3  2\n",
       "S  0  0  1  2  1  3  5  4"
      ]
     },
     "execution_count": 74,
     "metadata": {},
     "output_type": "execute_result"
    }
   ],
   "source": [
    "matrix"
   ]
  },
  {
   "cell_type": "code",
   "execution_count": 76,
   "metadata": {},
   "outputs": [],
   "source": []
  }
 ],
 "metadata": {
  "kernelspec": {
   "display_name": "Python 3.10.8 64-bit (microsoft store)",
   "language": "python",
   "name": "python3"
  },
  "language_info": {
   "codemirror_mode": {
    "name": "ipython",
    "version": 3
   },
   "file_extension": ".py",
   "mimetype": "text/x-python",
   "name": "python",
   "nbconvert_exporter": "python",
   "pygments_lexer": "ipython3",
   "version": "3.10.8"
  },
  "orig_nbformat": 4,
  "vscode": {
   "interpreter": {
    "hash": "f68f7f6e936a2379902ade3d4fe5b5231ecd29e62f975957823cccc44bc63e47"
   }
  }
 },
 "nbformat": 4,
 "nbformat_minor": 2
}
